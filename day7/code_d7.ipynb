{
 "cells": [
  {
   "cell_type": "code",
   "execution_count": 10,
   "id": "c1998869",
   "metadata": {},
   "outputs": [],
   "source": [
    "import numpy as np"
   ]
  },
  {
   "cell_type": "code",
   "execution_count": 13,
   "id": "47c8333f",
   "metadata": {},
   "outputs": [],
   "source": [
    "with open(\"input.txt\", \"r\") as fh:\n",
    "    lines = fh.readlines()\n",
    "\n",
    "positions = [int(i) for i in lines[0].rstrip().split(\",\")]\n",
    "positions = np.array(positions)"
   ]
  },
  {
   "cell_type": "markdown",
   "id": "951b7461",
   "metadata": {},
   "source": [
    "# part 1"
   ]
  },
  {
   "cell_type": "code",
   "execution_count": 19,
   "id": "5977ffa6",
   "metadata": {
    "scrolled": false
   },
   "outputs": [],
   "source": [
    "range_sum = [sum(abs(positions - x)) for x in range(min(positions), max(positions))]"
   ]
  },
  {
   "cell_type": "code",
   "execution_count": 26,
   "id": "92c61076",
   "metadata": {},
   "outputs": [
    {
     "data": {
      "text/plain": [
       "355764"
      ]
     },
     "execution_count": 26,
     "metadata": {},
     "output_type": "execute_result"
    }
   ],
   "source": [
    "min(range_sum)"
   ]
  },
  {
   "cell_type": "code",
   "execution_count": 28,
   "id": "833f746a",
   "metadata": {},
   "outputs": [
    {
     "data": {
      "text/plain": [
       "339"
      ]
     },
     "execution_count": 28,
     "metadata": {},
     "output_type": "execute_result"
    }
   ],
   "source": [
    "np.argmin(range_sum)"
   ]
  },
  {
   "cell_type": "markdown",
   "id": "ca2fa859",
   "metadata": {},
   "source": [
    "# part 2"
   ]
  },
  {
   "cell_type": "code",
   "execution_count": 25,
   "id": "10a2cfb3",
   "metadata": {},
   "outputs": [
    {
     "data": {
      "text/plain": [
       "99634572.0"
      ]
     },
     "execution_count": 25,
     "metadata": {},
     "output_type": "execute_result"
    }
   ],
   "source": [
    "range_sum2 = []\n",
    "for x in range(min(positions), max(positions)):\n",
    "    dist = abs(positions - x)\n",
    "    range_sum2.append(sum((1+dist)*dist/2))\n",
    "\n",
    "min(range_sum2)"
   ]
  }
 ],
 "metadata": {
  "kernelspec": {
   "display_name": "Python 3",
   "language": "python",
   "name": "python3"
  },
  "language_info": {
   "codemirror_mode": {
    "name": "ipython",
    "version": 3
   },
   "file_extension": ".py",
   "mimetype": "text/x-python",
   "name": "python",
   "nbconvert_exporter": "python",
   "pygments_lexer": "ipython3",
   "version": "3.9.1"
  }
 },
 "nbformat": 4,
 "nbformat_minor": 5
}
