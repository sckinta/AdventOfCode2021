{
 "cells": [
  {
   "cell_type": "code",
   "execution_count": 21,
   "id": "f7bb4d68",
   "metadata": {
    "scrolled": true
   },
   "outputs": [],
   "source": [
    "with open(\"day6/input.txt\", \"r\") as fh:\n",
    "    lines = fh.readlines()\n",
    "\n",
    "initial_timer = lines[0].rstrip().replace(\" \",\"\").split(\",\")\n",
    "initial_timer = [int(i) for i in initial_timer]"
   ]
  },
  {
   "cell_type": "code",
   "execution_count": 22,
   "id": "4eeff1bb",
   "metadata": {},
   "outputs": [],
   "source": [
    "def reset_seq(seq):\n",
    "    reset_bl = [i==-1 for i in seq]\n",
    "    if (any(reset_bl)):\n",
    "        reset_n = sum(reset_bl)\n",
    "        for i,x in enumerate(reset_bl):\n",
    "            if x:\n",
    "                seq[i] = 6\n",
    "        seq = seq + [8] * reset_n\n",
    "    return seq     "
   ]
  },
  {
   "cell_type": "code",
   "execution_count": 23,
   "id": "2de66794",
   "metadata": {
    "scrolled": true
   },
   "outputs": [],
   "source": [
    "# part 1\n",
    "days = 80\n",
    "seq = initial_timer\n",
    "for i in range(0,days):\n",
    "    seq = reset_seq([x-1 for x in seq])"
   ]
  },
  {
   "cell_type": "code",
   "execution_count": 24,
   "id": "05e66705",
   "metadata": {},
   "outputs": [
    {
     "data": {
      "text/plain": [
       "352872"
      ]
     },
     "execution_count": 24,
     "metadata": {},
     "output_type": "execute_result"
    }
   ],
   "source": [
    "len(seq)"
   ]
  },
  {
   "cell_type": "code",
   "execution_count": 25,
   "id": "761c2ee7",
   "metadata": {
    "scrolled": true
   },
   "outputs": [
    {
     "data": {
      "text/plain": [
       "[0, 86, 58, 51, 56, 49, 0, 0, 0]"
      ]
     },
     "execution_count": 25,
     "metadata": {},
     "output_type": "execute_result"
    }
   ],
   "source": [
    "# part 2\n",
    "counts=[]\n",
    "for i in range(0,9):\n",
    "    bl = [d==i for d in initial_timer]\n",
    "    counts.append(sum(bl))\n",
    "\n",
    "counts"
   ]
  },
  {
   "cell_type": "code",
   "execution_count": 26,
   "id": "45e5b0b4",
   "metadata": {},
   "outputs": [],
   "source": [
    "for i in range(0,256):\n",
    "    n0 = counts[0]\n",
    "    tmp = counts[1:9]\n",
    "    tmp[6] = tmp[6] + n0\n",
    "    tmp.append(n0)\n",
    "    counts = tmp"
   ]
  },
  {
   "cell_type": "code",
   "execution_count": 27,
   "id": "470ece52",
   "metadata": {},
   "outputs": [
    {
     "data": {
      "text/plain": [
       "1604361182149"
      ]
     },
     "execution_count": 27,
     "metadata": {},
     "output_type": "execute_result"
    }
   ],
   "source": [
    "sum(counts)"
   ]
  }
 ],
 "metadata": {
  "kernelspec": {
   "display_name": "Python 3",
   "language": "python",
   "name": "python3"
  },
  "language_info": {
   "codemirror_mode": {
    "name": "ipython",
    "version": 3
   },
   "file_extension": ".py",
   "mimetype": "text/x-python",
   "name": "python",
   "nbconvert_exporter": "python",
   "pygments_lexer": "ipython3",
   "version": "3.9.1"
  }
 },
 "nbformat": 4,
 "nbformat_minor": 5
}
