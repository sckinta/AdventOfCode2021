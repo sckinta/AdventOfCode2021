{
 "cells": [
  {
   "cell_type": "code",
   "execution_count": 122,
   "id": "45494710",
   "metadata": {},
   "outputs": [],
   "source": [
    "import numpy as np"
   ]
  },
  {
   "cell_type": "code",
   "execution_count": 123,
   "id": "ab39080b",
   "metadata": {
    "scrolled": true
   },
   "outputs": [],
   "source": [
    "with open(\"input.txt\",\"r\") as fh:\n",
    "    lines = fh.readlines()\n",
    "initial_m = [list(line.rstrip()) for line in lines]\n",
    "initial_m = np.array(initial_m).astype(int)"
   ]
  },
  {
   "cell_type": "code",
   "execution_count": 54,
   "id": "ce66e626",
   "metadata": {},
   "outputs": [],
   "source": [
    "nr,nc = initial_m.shape"
   ]
  },
  {
   "cell_type": "code",
   "execution_count": 115,
   "id": "ceeb8c51",
   "metadata": {},
   "outputs": [
    {
     "data": {
      "text/plain": [
       "1656"
      ]
     },
     "execution_count": 115,
     "metadata": {},
     "output_type": "execute_result"
    }
   ],
   "source": [
    "m = initial_m\n",
    "flashed_total = 0\n",
    "for step in range(100):\n",
    "    m = m + 1\n",
    "    (index_r, index_c) = np.where(m > 9)\n",
    "    flashed_indexes = [(index_r[x],index_c[x]) for x in np.arange(np.size(index_r))]\n",
    "    flashed_indexes_total = flashed_indexes\n",
    "    while (len(flashed_indexes) > 0):\n",
    "        for i in np.arange(len(flashed_indexes)):\n",
    "            neighbors_r = np.arange((flashed_indexes[i][0]-1),(flashed_indexes[i][0]+2))\n",
    "            neighbors_c = np.arange((flashed_indexes[i][1]-1),(flashed_indexes[i][1]+2))\n",
    "            neighbors_indexes_tmp = np.array([(r, c) for r in neighbors_r for c in neighbors_c if (r >=0 and r < nr and c >=0 and c < nc)])\n",
    "            for j in np.arange(neighbors_indexes_tmp.shape[0]):\n",
    "                m[neighbors_indexes_tmp[j,0],neighbors_indexes_tmp[j,1]] = m[neighbors_indexes_tmp[j,0],neighbors_indexes_tmp[j,1]] + 1\n",
    "        (index_r, index_c) = np.where(m > 9)\n",
    "        flashed_indexes_updated = [(index_r[t],index_c[t]) for t in np.arange(np.size(index_r))]        \n",
    "        flashed_indexes = [index for index in flashed_indexes_updated if not(index in flashed_indexes_total)]\n",
    "        flashed_indexes_total = flashed_indexes_updated\n",
    "    m[np.where(m > 9)]= 0\n",
    "    flashed_total += len(flashed_indexes_total)\n",
    "flashed_total"
   ]
  },
  {
   "cell_type": "markdown",
   "id": "0a5f378f",
   "metadata": {},
   "source": [
    "# part 2"
   ]
  },
  {
   "cell_type": "code",
   "execution_count": 120,
   "id": "ee64ce82",
   "metadata": {},
   "outputs": [
    {
     "data": {
      "text/plain": [
       "195"
      ]
     },
     "execution_count": 120,
     "metadata": {},
     "output_type": "execute_result"
    }
   ],
   "source": [
    "m = initial_m\n",
    "step = 0\n",
    "while(sum(sum(m)) > 0):\n",
    "    step += 1\n",
    "    m = m + 1\n",
    "    (index_r, index_c) = np.where(m > 9)\n",
    "    flashed_indexes = [(index_r[x],index_c[x]) for x in np.arange(np.size(index_r))]\n",
    "    flashed_indexes_total = flashed_indexes\n",
    "    while (len(flashed_indexes) > 0):\n",
    "        for i in np.arange(len(flashed_indexes)):\n",
    "            neighbors_r = np.arange((flashed_indexes[i][0]-1),(flashed_indexes[i][0]+2))\n",
    "            neighbors_c = np.arange((flashed_indexes[i][1]-1),(flashed_indexes[i][1]+2))\n",
    "            neighbors_indexes_tmp = [(r, c) for r in neighbors_r for c in neighbors_c if (r >=0 and r < nr and c >=0 and c < nc)]\n",
    "            for j in np.arange(len(neighbors_indexes_tmp)):\n",
    "                m[neighbors_indexes_tmp[j][0],neighbors_indexes_tmp[j][1]] = m[neighbors_indexes_tmp[j][0],neighbors_indexes_tmp[j][1]] + 1\n",
    "        (index_r, index_c) = np.where(m > 9)\n",
    "        flashed_indexes_updated = [(index_r[t],index_c[t]) for t in np.arange(np.size(index_r))]        \n",
    "        flashed_indexes = [index for index in flashed_indexes_updated if not(index in flashed_indexes_total)]\n",
    "        flashed_indexes_total = flashed_indexes_updated\n",
    "    m[np.where(m > 9)]= 0\n",
    "\n",
    "step"
   ]
  }
 ],
 "metadata": {
  "kernelspec": {
   "display_name": "Python 3",
   "language": "python",
   "name": "python3"
  },
  "language_info": {
   "codemirror_mode": {
    "name": "ipython",
    "version": 3
   },
   "file_extension": ".py",
   "mimetype": "text/x-python",
   "name": "python",
   "nbconvert_exporter": "python",
   "pygments_lexer": "ipython3",
   "version": "3.9.1"
  }
 },
 "nbformat": 4,
 "nbformat_minor": 5
}
